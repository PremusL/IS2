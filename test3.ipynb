{
 "cells": [
  {
   "cell_type": "code",
   "execution_count": 1,
   "metadata": {},
   "outputs": [],
   "source": [
    "import torch\n",
    "import pandas as pd\n",
    "from transformers import pipeline, BertForSequenceClassification, BertTokenizerFast\n",
    "from torch.utils.data import Dataset"
   ]
  },
  {
   "cell_type": "code",
   "execution_count": 2,
   "metadata": {},
   "outputs": [
    {
     "data": {
      "text/html": [
       "<div>\n",
       "<style scoped>\n",
       "    .dataframe tbody tr th:only-of-type {\n",
       "        vertical-align: middle;\n",
       "    }\n",
       "\n",
       "    .dataframe tbody tr th {\n",
       "        vertical-align: top;\n",
       "    }\n",
       "\n",
       "    .dataframe thead th {\n",
       "        text-align: right;\n",
       "    }\n",
       "</style>\n",
       "<table border=\"1\" class=\"dataframe\">\n",
       "  <thead>\n",
       "    <tr style=\"text-align: right;\">\n",
       "      <th></th>\n",
       "      <th>link</th>\n",
       "      <th>headline</th>\n",
       "      <th>category</th>\n",
       "      <th>short_description</th>\n",
       "      <th>authors</th>\n",
       "      <th>date</th>\n",
       "      <th>cleaned_text</th>\n",
       "    </tr>\n",
       "  </thead>\n",
       "  <tbody>\n",
       "    <tr>\n",
       "      <th>361</th>\n",
       "      <td>https://www.huffpost.com/entry/christian-natio...</td>\n",
       "      <td>Christian Nationalism On The Rise In Some GOP ...</td>\n",
       "      <td>POLITICS</td>\n",
       "      <td>Doug Mastriano’s win in the Pennsylvania guber...</td>\n",
       "      <td>PETER SMITH and DEEPA BHARATH, AP NEWS</td>\n",
       "      <td>1653782400000</td>\n",
       "      <td>doug mastriano win pennsylvania gubernatorial ...</td>\n",
       "    </tr>\n",
       "    <tr>\n",
       "      <th>73</th>\n",
       "      <td>https://www.huffpost.com/entry/truth-social-do...</td>\n",
       "      <td>Donald Trump's Truth Social Reportedly Faces M...</td>\n",
       "      <td>POLITICS</td>\n",
       "      <td>A major vendor claims it was stiffed by Trump'...</td>\n",
       "      <td>Mary Papenfuss</td>\n",
       "      <td>1661472000000</td>\n",
       "      <td>major vendor claim stiffed trump social medium...</td>\n",
       "    </tr>\n",
       "    <tr>\n",
       "      <th>374</th>\n",
       "      <td>https://www.huffpost.com/entry/greg-abbott-res...</td>\n",
       "      <td>Texas Gov. On State's Deadliest School Shootin...</td>\n",
       "      <td>POLITICS</td>\n",
       "      <td>GOP Gov. Greg Abbott said what Texans need \"no...</td>\n",
       "      <td>Nina Golgowski</td>\n",
       "      <td>1653436800000</td>\n",
       "      <td>gop gov greg abbott said texan need ever love ...</td>\n",
       "    </tr>\n",
       "    <tr>\n",
       "      <th>155</th>\n",
       "      <td>https://www.huffpost.com/entry/kenan-thompson-...</td>\n",
       "      <td>Kenan Thompson: Ending 'SNL' After 50th Season...</td>\n",
       "      <td>ENTERTAINMENT</td>\n",
       "      <td>The longest-running cast member said Lorne Mic...</td>\n",
       "      <td>David Moye</td>\n",
       "      <td>1659052800000</td>\n",
       "      <td>cast member said lorne michael rumored departu...</td>\n",
       "    </tr>\n",
       "    <tr>\n",
       "      <th>104</th>\n",
       "      <td>https://www.huffpost.com/entry/denver-broncos-...</td>\n",
       "      <td>The Denver Broncos’ Historic Purchase Could In...</td>\n",
       "      <td>SPORTS</td>\n",
       "      <td>Broncos quarterback Russell Wilson said the ne...</td>\n",
       "      <td>Andre Ellington</td>\n",
       "      <td>1660608000000</td>\n",
       "      <td>bronco quarterback russell wilson said new own...</td>\n",
       "    </tr>\n",
       "  </tbody>\n",
       "</table>\n",
       "</div>"
      ],
      "text/plain": [
       "                                                  link  \\\n",
       "361  https://www.huffpost.com/entry/christian-natio...   \n",
       "73   https://www.huffpost.com/entry/truth-social-do...   \n",
       "374  https://www.huffpost.com/entry/greg-abbott-res...   \n",
       "155  https://www.huffpost.com/entry/kenan-thompson-...   \n",
       "104  https://www.huffpost.com/entry/denver-broncos-...   \n",
       "\n",
       "                                              headline       category  \\\n",
       "361  Christian Nationalism On The Rise In Some GOP ...       POLITICS   \n",
       "73   Donald Trump's Truth Social Reportedly Faces M...       POLITICS   \n",
       "374  Texas Gov. On State's Deadliest School Shootin...       POLITICS   \n",
       "155  Kenan Thompson: Ending 'SNL' After 50th Season...  ENTERTAINMENT   \n",
       "104  The Denver Broncos’ Historic Purchase Could In...         SPORTS   \n",
       "\n",
       "                                     short_description  \\\n",
       "361  Doug Mastriano’s win in the Pennsylvania guber...   \n",
       "73   A major vendor claims it was stiffed by Trump'...   \n",
       "374  GOP Gov. Greg Abbott said what Texans need \"no...   \n",
       "155  The longest-running cast member said Lorne Mic...   \n",
       "104  Broncos quarterback Russell Wilson said the ne...   \n",
       "\n",
       "                                    authors           date  \\\n",
       "361  PETER SMITH and DEEPA BHARATH, AP NEWS  1653782400000   \n",
       "73                           Mary Papenfuss  1661472000000   \n",
       "374                          Nina Golgowski  1653436800000   \n",
       "155                              David Moye  1659052800000   \n",
       "104                         Andre Ellington  1660608000000   \n",
       "\n",
       "                                          cleaned_text  \n",
       "361  doug mastriano win pennsylvania gubernatorial ...  \n",
       "73   major vendor claim stiffed trump social medium...  \n",
       "374  gop gov greg abbott said texan need ever love ...  \n",
       "155  cast member said lorne michael rumored departu...  \n",
       "104  bronco quarterback russell wilson said new own...  "
      ]
     },
     "execution_count": 2,
     "metadata": {},
     "output_type": "execute_result"
    }
   ],
   "source": [
    "device = 'cpu'\n",
    "df_org = pd.read_csv(\"./fixed_data.csv\")[:500]\n",
    "df_org = df_org.sample(frac=1, random_state=42)\n",
    "df_org.head()"
   ]
  },
  {
   "cell_type": "code",
   "execution_count": 3,
   "metadata": {},
   "outputs": [
    {
     "data": {
      "text/plain": [
       "['POLITICS',\n",
       " 'ENTERTAINMENT',\n",
       " 'SPORTS',\n",
       " 'HOME & LIVING',\n",
       " 'WELLNESS',\n",
       " 'COMEDY',\n",
       " 'BUSINESS',\n",
       " 'PARENTING',\n",
       " 'FOOD & DRINK',\n",
       " 'STYLE & BEAUTY',\n",
       " 'QUEER VOICES',\n",
       " 'BLACK VOICES']"
      ]
     },
     "execution_count": 3,
     "metadata": {},
     "output_type": "execute_result"
    }
   ],
   "source": [
    "labels = df_org['category'].unique().tolist()\n",
    "NUM_LABELS = len(labels)\n",
    "labels"
   ]
  },
  {
   "cell_type": "code",
   "execution_count": 4,
   "metadata": {},
   "outputs": [
    {
     "name": "stdout",
     "output_type": "stream",
     "text": [
      "{'POLITICS': 0, 'ENTERTAINMENT': 1, 'SPORTS': 2, 'HOME & LIVING': 3, 'WELLNESS': 4, 'COMEDY': 5, 'BUSINESS': 6, 'PARENTING': 7, 'FOOD & DRINK': 8, 'STYLE & BEAUTY': 9, 'QUEER VOICES': 10, 'BLACK VOICES': 11}\n",
      "{0: 'POLITICS', 1: 'ENTERTAINMENT', 2: 'SPORTS', 3: 'HOME & LIVING', 4: 'WELLNESS', 5: 'COMEDY', 6: 'BUSINESS', 7: 'PARENTING', 8: 'FOOD & DRINK', 9: 'STYLE & BEAUTY', 10: 'QUEER VOICES', 11: 'BLACK VOICES'}\n"
     ]
    }
   ],
   "source": [
    "labels2id = {label:i for i,label in enumerate(labels) }\n",
    "id2labels = {i:label for i,label in enumerate(labels) }\n",
    "print(labels2id)\n",
    "print(id2labels)\n"
   ]
  },
  {
   "cell_type": "code",
   "execution_count": 5,
   "metadata": {},
   "outputs": [
    {
     "data": {
      "text/html": [
       "<div>\n",
       "<style scoped>\n",
       "    .dataframe tbody tr th:only-of-type {\n",
       "        vertical-align: middle;\n",
       "    }\n",
       "\n",
       "    .dataframe tbody tr th {\n",
       "        vertical-align: top;\n",
       "    }\n",
       "\n",
       "    .dataframe thead th {\n",
       "        text-align: right;\n",
       "    }\n",
       "</style>\n",
       "<table border=\"1\" class=\"dataframe\">\n",
       "  <thead>\n",
       "    <tr style=\"text-align: right;\">\n",
       "      <th></th>\n",
       "      <th>category</th>\n",
       "      <th>labels</th>\n",
       "      <th>short_description</th>\n",
       "    </tr>\n",
       "  </thead>\n",
       "  <tbody>\n",
       "    <tr>\n",
       "      <th>361</th>\n",
       "      <td>POLITICS</td>\n",
       "      <td>0</td>\n",
       "      <td>Doug Mastriano’s win in the Pennsylvania guber...</td>\n",
       "    </tr>\n",
       "    <tr>\n",
       "      <th>73</th>\n",
       "      <td>POLITICS</td>\n",
       "      <td>0</td>\n",
       "      <td>A major vendor claims it was stiffed by Trump'...</td>\n",
       "    </tr>\n",
       "    <tr>\n",
       "      <th>374</th>\n",
       "      <td>POLITICS</td>\n",
       "      <td>0</td>\n",
       "      <td>GOP Gov. Greg Abbott said what Texans need \"no...</td>\n",
       "    </tr>\n",
       "    <tr>\n",
       "      <th>155</th>\n",
       "      <td>ENTERTAINMENT</td>\n",
       "      <td>1</td>\n",
       "      <td>The longest-running cast member said Lorne Mic...</td>\n",
       "    </tr>\n",
       "    <tr>\n",
       "      <th>104</th>\n",
       "      <td>SPORTS</td>\n",
       "      <td>2</td>\n",
       "      <td>Broncos quarterback Russell Wilson said the ne...</td>\n",
       "    </tr>\n",
       "  </tbody>\n",
       "</table>\n",
       "</div>"
      ],
      "text/plain": [
       "          category  labels                                  short_description\n",
       "361       POLITICS       0  Doug Mastriano’s win in the Pennsylvania guber...\n",
       "73        POLITICS       0  A major vendor claims it was stiffed by Trump'...\n",
       "374       POLITICS       0  GOP Gov. Greg Abbott said what Texans need \"no...\n",
       "155  ENTERTAINMENT       1  The longest-running cast member said Lorne Mic...\n",
       "104         SPORTS       2  Broncos quarterback Russell Wilson said the ne..."
      ]
     },
     "execution_count": 5,
     "metadata": {},
     "output_type": "execute_result"
    }
   ],
   "source": [
    "df_org['labels'] = df_org['category'].apply(lambda x: labels2id[x])\n",
    "\n",
    "df_org = df_org[['category', 'labels','short_description']]\n",
    "df_org = df_org.dropna()\n",
    "df_org.head()"
   ]
  },
  {
   "cell_type": "code",
   "execution_count": 6,
   "metadata": {},
   "outputs": [
    {
     "data": {
      "text/plain": [
       "<Axes: ylabel='count'>"
      ]
     },
     "execution_count": 6,
     "metadata": {},
     "output_type": "execute_result"
    },
    {
     "data": {
      "image/png": "[encoded data removed]",
      "text/plain": [
       "<Figure size 600x600 with 1 Axes>"
      ]
     },
     "metadata": {},
     "output_type": "display_data"
    }
   ],
   "source": [
    "df_org['category'].value_counts().plot(kind='pie', figsize=(6, 6))"
   ]
  },
  {
   "cell_type": "code",
   "execution_count": 7,
   "metadata": {},
   "outputs": [
    {
     "name": "stderr",
     "output_type": "stream",
     "text": [
      "Some weights of BertForSequenceClassification were not initialized from the model checkpoint at bert-base-uncased and are newly initialized: ['classifier.weight', 'classifier.bias']\n",
      "You should probably TRAIN this model on a down-stream task to be able to use it for predictions and inference.\n"
     ]
    },
    {
     "name": "stdout",
     "output_type": "stream",
     "text": [
      "done\n"
     ]
    }
   ],
   "source": [
    "tokenizer = BertTokenizerFast.from_pretrained('bert-base-uncased', do_lower_case=True, max_len=256)\n",
    "model = BertForSequenceClassification.from_pretrained('bert-base-uncased', num_labels=NUM_LABELS, id2label=id2labels, label2id=labels2id)\n",
    "model.to(device)\n",
    "print(\"done\")"
   ]
  },
  {
   "cell_type": "code",
   "execution_count": 8,
   "metadata": {},
   "outputs": [],
   "source": [
    "SIZE = df_org.shape[0]\n",
    "\n",
    "# df_org.head()\n",
    "str_short_description = [str(s) for s in df_org['short_description']]\n",
    "str_labels = [(s) for s in df_org['labels']]\n",
    "\n",
    "\n",
    "train_texts = list(str_short_description[:SIZE//2])\n",
    "\n",
    "val_texts = list(str_short_description[:SIZE//2:(3*SIZE)//4])\n",
    "test_texts = list(str_short_description[(3*SIZE)//4:])\n",
    "\n",
    "\n",
    "train_labels = list(str_labels[:SIZE//2])\n",
    "val_labels = list(str_labels[:SIZE//2:(3*SIZE)//4])\n",
    "test_labels = list(str_labels[(3*SIZE)//4:])\n",
    "\n",
    "\n",
    "\n",
    "\n",
    "train_encodings = tokenizer(train_texts, truncation=True, padding=True)\n",
    "val_encodings = tokenizer(val_texts, truncation=True, padding=True)\n",
    "test_encodings = tokenizer(test_texts, truncation=True, padding=True)\n",
    "\n"
   ]
  },
  {
   "cell_type": "code",
   "execution_count": 9,
   "metadata": {},
   "outputs": [],
   "source": [
    "class DataLoader(Dataset):\n",
    "    def __init__(self, encodings, labels):\n",
    "        self.encodings = encodings\n",
    "        self.labels = labels\n",
    "\n",
    "    def __getitem__(self, idx):\n",
    "        item = {key: torch.tensor(val[idx]) for key, val in self.encodings.items()}\n",
    "        item['labels'] = torch.tensor(self.labels[idx])\n",
    "        return item\n",
    "    \n",
    "    def __len__(self):\n",
    "        return len(self.labels)\n",
    "    "
   ]
  },
  {
   "cell_type": "code",
   "execution_count": 10,
   "metadata": {},
   "outputs": [],
   "source": [
    "train_dataloader = DataLoader(train_encodings, train_labels)\n",
    "val_dataloader = DataLoader(val_encodings, val_labels)\n",
    "test_dataloader = DataLoader(test_encodings, test_labels)"
   ]
  },
  {
   "cell_type": "code",
   "execution_count": 11,
   "metadata": {},
   "outputs": [],
   "source": [
    "from transformers import TrainingArguments, Trainer\n",
    "from sklearn.metrics import accuracy_score, precision_recall_fscore_support\n",
    "\n",
    "def compute_metrics(pred):\n",
    "    labels = pred.label_ids\n",
    "    preds =  pred.predictions.argmax(-1)\n",
    "\n",
    "    precision, recall, f1, _ = precision_recall_fscore_support(labels, preds, average='macro')\n",
    "    acc = accuracy_score(labels, preds)\n",
    "\n",
    "    return {\n",
    "        'Accuracy':acc,\n",
    "        'F1': f1,\n",
    "        'Precision': precision,\n",
    "        'Recall':recall\n",
    "    }\n"
   ]
  },
  {
   "cell_type": "code",
   "execution_count": 12,
   "metadata": {},
   "outputs": [],
   "source": [
    "training_args = TrainingArguments(\n",
    "    output_dir='./results',          # output directory\n",
    "    do_train=True,\n",
    "    do_eval=True,\n",
    "    num_train_epochs=3,              # total number of training epochs\n",
    "    per_device_train_batch_size=8,\n",
    "    per_device_eval_batch_size=8,\n",
    "    warmup_steps=100,                # number of warmup steps for learning rate scheduler\n",
    "    weight_decay=0.01,               # strength of weight decay\n",
    "    logging_strategy='steps',\n",
    "    logging_dir='./logs',            # directory for storing logs\n",
    "    logging_steps=50,\n",
    "    evaluation_strategy='steps',\n",
    "    eval_steps=50,\n",
    "    save_strategy='steps',\n",
    "    load_best_model_at_end=True,\n",
    ")"
   ]
  },
  {
   "cell_type": "code",
   "execution_count": 13,
   "metadata": {},
   "outputs": [],
   "source": [
    "trainer = Trainer(\n",
    "    model=model,\n",
    "    args=training_args,\n",
    "    train_dataset=train_dataloader,\n",
    "    eval_dataset=val_dataloader,\n",
    "    compute_metrics = compute_metrics\n",
    ")"
   ]
  },
  {
   "cell_type": "code",
   "execution_count": 14,
   "metadata": {},
   "outputs": [
    {
     "data": {
      "application/vnd.jupyter.widget-view+json": {
       "model_id": "d2ed7bbc532a4ddbbd5ee219f1421502",
       "version_major": 2,
       "version_minor": 0
      },
      "text/plain": [
       "  0%|          | 0/93 [00:00<?, ?it/s]"
      ]
     },
     "metadata": {},
     "output_type": "display_data"
    },
    {
     "name": "stdout",
     "output_type": "stream",
     "text": [
      "{'loss': 2.1986, 'learning_rate': 2.5e-05, 'epoch': 1.61}\n"
     ]
    },
    {
     "data": {
      "application/vnd.jupyter.widget-view+json": {
       "model_id": "c619591960764d7bb66070deab8de89d",
       "version_major": 2,
       "version_minor": 0
      },
      "text/plain": [
       "  0%|          | 0/1 [00:00<?, ?it/s]"
      ]
     },
     "metadata": {},
     "output_type": "display_data"
    },
    {
     "name": "stdout",
     "output_type": "stream",
     "text": [
      "{'eval_loss': 0.5413797497749329, 'eval_Accuracy': 1.0, 'eval_F1': 1.0, 'eval_Precision': 1.0, 'eval_Recall': 1.0, 'eval_runtime': 0.0585, 'eval_samples_per_second': 17.101, 'eval_steps_per_second': 17.101, 'epoch': 1.61}\n",
      "{'train_runtime': 856.5542, 'train_samples_per_second': 0.869, 'train_steps_per_second': 0.109, 'train_loss': 1.6531851163474462, 'epoch': 3.0}\n"
     ]
    },
    {
     "data": {
      "text/plain": [
       "TrainOutput(global_step=93, training_loss=1.6531851163474462, metrics={'train_runtime': 856.5542, 'train_samples_per_second': 0.869, 'train_steps_per_second': 0.109, 'train_loss': 1.6531851163474462, 'epoch': 3.0})"
      ]
     },
     "execution_count": 14,
     "metadata": {},
     "output_type": "execute_result"
    }
   ],
   "source": [
    "trainer.train()"
   ]
  },
  {
   "cell_type": "code",
   "execution_count": 15,
   "metadata": {},
   "outputs": [
    {
     "data": {
      "application/vnd.jupyter.widget-view+json": {
       "model_id": "7caa8921354b440a9320180f3dfd42af",
       "version_major": 2,
       "version_minor": 0
      },
      "text/plain": [
       "  0%|          | 0/31 [00:00<?, ?it/s]"
      ]
     },
     "metadata": {},
     "output_type": "display_data"
    },
    {
     "name": "stderr",
     "output_type": "stream",
     "text": [
      "/home/drevo/anaconda3/lib/python3.10/site-packages/sklearn/metrics/_classification.py:1469: UndefinedMetricWarning: Precision and F-score are ill-defined and being set to 0.0 in labels with no predicted samples. Use `zero_division` parameter to control this behavior.\n",
      "  _warn_prf(average, modifier, msg_start, len(result))\n"
     ]
    },
    {
     "data": {
      "application/vnd.jupyter.widget-view+json": {
       "model_id": "aa686417ffc54d588ecf401715cd23d0",
       "version_major": 2,
       "version_minor": 0
      },
      "text/plain": [
       "  0%|          | 0/1 [00:00<?, ?it/s]"
      ]
     },
     "metadata": {},
     "output_type": "display_data"
    },
    {
     "data": {
      "application/vnd.jupyter.widget-view+json": {
       "model_id": "99c835ab9b7b45f6b45605876df77ffc",
       "version_major": 2,
       "version_minor": 0
      },
      "text/plain": [
       "  0%|          | 0/16 [00:00<?, ?it/s]"
      ]
     },
     "metadata": {},
     "output_type": "display_data"
    },
    {
     "name": "stderr",
     "output_type": "stream",
     "text": [
      "/home/drevo/anaconda3/lib/python3.10/site-packages/sklearn/metrics/_classification.py:1469: UndefinedMetricWarning: Precision and F-score are ill-defined and being set to 0.0 in labels with no predicted samples. Use `zero_division` parameter to control this behavior.\n",
      "  _warn_prf(average, modifier, msg_start, len(result))\n"
     ]
    },
    {
     "data": {
      "text/html": [
       "<div>\n",
       "<style scoped>\n",
       "    .dataframe tbody tr th:only-of-type {\n",
       "        vertical-align: middle;\n",
       "    }\n",
       "\n",
       "    .dataframe tbody tr th {\n",
       "        vertical-align: top;\n",
       "    }\n",
       "\n",
       "    .dataframe thead th {\n",
       "        text-align: right;\n",
       "    }\n",
       "</style>\n",
       "<table border=\"1\" class=\"dataframe\">\n",
       "  <thead>\n",
       "    <tr style=\"text-align: right;\">\n",
       "      <th></th>\n",
       "      <th>eval_loss</th>\n",
       "      <th>eval_Accuracy</th>\n",
       "      <th>eval_F1</th>\n",
       "      <th>eval_Precision</th>\n",
       "      <th>eval_Recall</th>\n",
       "    </tr>\n",
       "  </thead>\n",
       "  <tbody>\n",
       "    <tr>\n",
       "      <th>train</th>\n",
       "      <td>0.526888</td>\n",
       "      <td>0.846774</td>\n",
       "      <td>0.221674</td>\n",
       "      <td>0.211343</td>\n",
       "      <td>0.234252</td>\n",
       "    </tr>\n",
       "    <tr>\n",
       "      <th>val</th>\n",
       "      <td>0.045323</td>\n",
       "      <td>1.000000</td>\n",
       "      <td>1.000000</td>\n",
       "      <td>1.000000</td>\n",
       "      <td>1.000000</td>\n",
       "    </tr>\n",
       "    <tr>\n",
       "      <th>test</th>\n",
       "      <td>0.962699</td>\n",
       "      <td>0.717742</td>\n",
       "      <td>0.213885</td>\n",
       "      <td>0.219218</td>\n",
       "      <td>0.220793</td>\n",
       "    </tr>\n",
       "  </tbody>\n",
       "</table>\n",
       "</div>"
      ],
      "text/plain": [
       "       eval_loss  eval_Accuracy   eval_F1  eval_Precision  eval_Recall\n",
       "train   0.526888       0.846774  0.221674        0.211343     0.234252\n",
       "val     0.045323       1.000000  1.000000        1.000000     1.000000\n",
       "test    0.962699       0.717742  0.213885        0.219218     0.220793"
      ]
     },
     "execution_count": 15,
     "metadata": {},
     "output_type": "execute_result"
    }
   ],
   "source": [
    "q = [trainer.evaluate(eval_dataset=df_org) for df_org in [train_dataloader, val_dataloader, test_dataloader]]\n",
    "pd.DataFrame(q, index=['train', 'val', 'test']).iloc[:,:5]"
   ]
  },
  {
   "cell_type": "code",
   "execution_count": 16,
   "metadata": {},
   "outputs": [],
   "source": [
    "from transformers import DistilBertForSequenceClassification, DistilBertTokenizerFast"
   ]
  },
  {
   "cell_type": "code",
   "execution_count": 18,
   "metadata": {},
   "outputs": [],
   "source": [
    "def predict(text):\n",
    "    inputs = tokenizer(text, padding=True, truncation=True, max_length=512, return_tensors=\"pt\").to(device)\n",
    "    outputs = model(**inputs)\n",
    "    probs = outputs[0].softmax(dim=1)\n",
    "    pred_label_idx = probs.argmax()\n",
    "\n",
    "    pred_label = model.config.id2label[pred_label_idx.item()]\n",
    "\n",
    "    return probs, pred_label_idx, pred_label"
   ]
  },
  {
   "cell_type": "code",
   "execution_count": 17,
   "metadata": {},
   "outputs": [
    {
     "data": {
      "text/plain": [
       "('model500/tokenizer_config.json',\n",
       " 'model500/special_tokens_map.json',\n",
       " 'model500/vocab.txt',\n",
       " 'model500/added_tokens.json',\n",
       " 'model500/tokenizer.json')"
      ]
     },
     "execution_count": 17,
     "metadata": {},
     "output_type": "execute_result"
    }
   ],
   "source": [
    "trainer.save_model(\"model500\")\n",
    "tokenizer.save_pretrained(\"model500\")"
   ]
  },
  {
   "cell_type": "code",
   "execution_count": 27,
   "metadata": {},
   "outputs": [
    {
     "name": "stdout",
     "output_type": "stream",
     "text": [
      "predicted: \n",
      "[{'label': 'SPORTS', 'score': 0.2719479203224182}]\n",
      "Actual: SPORTS\n"
     ]
    }
   ],
   "source": [
    "model_path = \"model500\"\n",
    "\n",
    "model = BertForSequenceClassification.from_pretrained(model_path)\n",
    "tokenizer=BertTokenizerFast.from_pretrained(model_path)\n",
    "nlp=pipeline(\"sentiment-analysis\", model=model, tokenizer=tokenizer)\n",
    "\n",
    "\n",
    "print(\"predicted: \")\n",
    "print(nlp(df_org['short_description'][22]))\n",
    "print(f\"Actual: {df_org['category'][22]}\")"
   ]
  }
 ],
 "metadata": {
  "kernelspec": {
   "display_name": "base",
   "language": "python",
   "name": "python3"
  },
  "language_info": {
   "codemirror_mode": {
    "name": "ipython",
    "version": 3
   },
   "file_extension": ".py",
   "mimetype": "text/x-python",
   "name": "python",
   "nbconvert_exporter": "python",
   "pygments_lexer": "ipython3",
   "version": "3.10.13"
  }
 },
 "nbformat": 4,
 "nbformat_minor": 2
}
